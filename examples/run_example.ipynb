{
 "cells": [
  {
   "cell_type": "markdown",
   "metadata": {},
   "source": [
    "# BindStuff Example\n",
    "\n",
    "This notebook runs the `run_example.py` pipeline in Colab. Make sure GPU runtime is enabled (`Runtime > Change runtime type > GPU`)."
   ]
  },
  {
   "cell_type": "code",
   "execution_count": null,
   "metadata": {},
   "outputs": [],
   "source": [
    "# Clone the BindStuff repository\n",
    "!git clone https://github.com/rbf22/BindStuff.git\n",
    "%cd BindStuff/examples"
   ]
  },
  {
   "cell_type": "code",
   "execution_count": null,
   "metadata": {},
   "outputs": [],
   "source": [
    "# Install dependencies (if any)\n",
    "!pip install -r ../requirements.txt"
   ]
  },
  {
   "cell_type": "code",
   "execution_count": null,
   "metadata": {},
   "outputs": [],
   "source": [
    "# Run the pipeline script\n",
    "%run run_example.py --run-on-cpu"
   ]
  }
 ],
 "metadata": {
  "colab": {
   "name": "run_example.ipynb",
   "provenance": []
  },
  "kernelspec": {
   "display_name": "Python 3",
   "language": "python",
   "name": "python3"
  },
  "language_info": {
   "name": "python"
  }
 },
 "nbformat": 4,
 "nbformat_minor": 0
}
