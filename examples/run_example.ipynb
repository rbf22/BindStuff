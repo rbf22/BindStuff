{
  "cells": [
    {
      "cell_type": "markdown",
      "metadata": {
        "id": "iQBAQzij92n5"
      },
      "source": [
        "# BindStuff Example\n",
        "\n",
        "This Colab notebook sets up BindStuff with Poetry, fixes JAX for Colab's CUDA 12 GPU runtime, and runs the example pipeline.\n",
        "\n",
        "👉 Make sure you enable GPU in Colab: `Runtime > Change runtime type > GPU`."
      ]
    },
    {
      "cell_type": "code",
      "execution_count": null,
      "metadata": {
        "id": "2uVTuch992n7"
      },
      "outputs": [],
      "source": [
        "# Clone the BindStuff repository\n",
        "!git clone https://github.com/rbf22/BindStuff.git\n",
        "%cd BindStuff"
      ]
    },
    {
      "cell_type": "code",
      "execution_count": null,
      "metadata": {
        "id": "IU4jhJTq92n7"
      },
      "outputs": [],
      "source": [
        "# Install Poetry\n",
        "!pip install poetry\n",
        "\n",
        "# Configure Poetry to install into the Colab environment (no venv)\n",
        "!poetry config virtualenvs.create false\n",
        "\n",
        "# Install dependencies from pyproject.toml\n",
        "!poetry install\n",
        "!make download-params"
      ]
    },
    {
      "cell_type": "code",
      "execution_count": null,
      "metadata": {
        "id": "IEB7P04k92n7"
      },
      "outputs": [],
      "source": [
        "# Fix JAX version for CUDA 12 (Colab GPU compatibility)\n",
        "!pip uninstall -y jax jaxlib\n",
        "!pip install --upgrade \"jax[cuda12_pip]\" -f https://storage.googleapis.com/jax-releases/jax_cuda_releases.htmlma"
      ]
    },
    {
      "cell_type": "code",
      "execution_count": null,
      "metadata": {
        "id": "k1IVJWEh92n7"
      },
      "outputs": [],
      "source": [
        "# Run the example pipeline\n",
        "!python examples/run_example.py --run-on-cpu\n",
        "\n",
        "# 👉 Remove `--run-on-cpu` if you want to use GPU (recommended).\n",
        "# If GPU fails, you can force CPU by setting:\n",
        "# import os; os.environ['JAX_PLATFORMS'] = 'cpu'"
      ]
    },
    {
      "cell_type": "code",
      "source": [
        "!pwd\n"
      ],
      "metadata": {
        "id": "oUdCo1BE_gNq"
      },
      "execution_count": null,
      "outputs": []
    },
    {
      "cell_type": "code",
      "source": [],
      "metadata": {
        "id": "LvZQaUwg_igQ"
      },
      "execution_count": null,
      "outputs": []
    }
  ],
  "metadata": {
    "colab": {
      "name": "run_example.ipynb",
      "provenance": []
    },
    "kernelspec": {
      "display_name": "Python 3",
      "language": "python",
      "name": "python3"
    },
    "language_info": {
      "name": "python"
    }
  },
  "nbformat": 4,
  "nbformat_minor": 0
}
