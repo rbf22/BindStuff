{
 "cells": [
  {
   "cell_type": "markdown",
   "metadata": {},
   "source": [
    "# BindStuff Example\n",
    "\n",
    "This notebook runs the `run_example.py` pipeline in Colab. Make sure GPU runtime is enabled (`Runtime > Change runtime type > GPU`)."
   ]
  },
  {
   "cell_type": "code",
   "execution_count": null,
   "metadata": {},
   "outputs": [],
   "source": [
    "# Clone the BindStuff repository\n",
    "!git clone https://github.com/rbf22/BindStuff.git\n",
    "!pip install poetry\n",
    "!poetry install\n",
   ]
  },
  {
   "cell_type": "code",
   "execution_count": null,
   "metadata": {},
   "outputs": [],
   "source": [
    "# Run the pipeline script\n",
    "!poetry run python run_example.py --run-on-cpu"
   ]
  }
 ],
 "metadata": {
  "colab": {
   "name": "run_example.ipynb",
   "provenance": []
  },
  "kernelspec": {
   "display_name": "Python 3",
   "language": "python",
   "name": "python3"
  },
  "language_info": {
   "name": "python"
  }
 },
 "nbformat": 4,
 "nbformat_minor": 0
}
