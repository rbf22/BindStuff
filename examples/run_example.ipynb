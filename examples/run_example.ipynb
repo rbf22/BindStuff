{
 "cells": [
  {
   "cell_type": "markdown",
   "metadata": {},
   "source": [
    "# BindStuff Example\n",
    "\n",
    "This Colab notebook sets up BindStuff with Poetry, fixes JAX for Colab's CUDA 12 GPU runtime, and runs the example pipeline.\n",
    "\n",
    "👉 Make sure you enable GPU in Colab: `Runtime > Change runtime type > GPU`."
   ]
  },
  {
   "cell_type": "code",
   "execution_count": null,
   "metadata": {},
   "outputs": [],
   "source": [
    "# Clone the BindStuff repository\n",
    "!git clone https://github.com/rbf22/BindStuff.git\n",
    "%cd BindStuff"
   ]
  },
  {
   "cell_type": "code",
   "execution_count": null,
   "metadata": {},
   "outputs": [],
   "source": [
    "# Install Poetry\n",
    "!pip install poetry\n",
    "\n",
    "# Configure Poetry to install into the Colab environment (no venv)\n",
    "!poetry config virtualenvs.create false\n",
    "\n",
    "# Install dependencies from pyproject.toml\n",
    "!poetry install"
   ]
  },
  {
   "cell_type": "code",
   "execution_count": null,
   "metadata": {},
   "outputs": [],
   "source": [
    "# Fix JAX version for CUDA 12 (Colab GPU compatibility)\n",
    "!pip uninstall -y jax jaxlib\n",
    "!pip install --upgrade \"jax[cuda12_pip]\" -f https://storage.googleapis.com/jax-releases/jax_cuda_releases.html"
   ]
  },
  {
   "cell_type": "code",
   "execution_count": null,
   "metadata": {},
   "outputs": [],
   "source": [
    "# Run the example pipeline\n",
    "%cd examples\n",
    "!python run_example.py --run-on-cpu\n",
    "\n",
    "# 👉 Remove `--run-on-cpu` if you want to use GPU (recommended).\n",
    "# If GPU fails, you can force CPU by setting:\n",
    "# import os; os.environ['JAX_PLATFORMS'] = 'cpu'"
   ]
  }
 ],
 "metadata": {
  "colab": {
   "name": "run_example.ipynb",
   "provenance": []
  },
  "kernelspec": {
   "display_name": "Python 3",
   "language": "python",
   "name": "python3"
  },
  "language_info": {
   "name": "python"
  }
 },
 "nbformat": 4,
 "nbformat_minor": 0
}
