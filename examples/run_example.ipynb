{
  "cells": [
    {
      "cell_type": "markdown",
      "metadata": {
        "id": "iQBAQzij92n5"
      },
      "source": [
        "# BindStuff Example\n",
        "\n",
        "This Colab notebook sets up BindStuff with Poetry, fixes JAX for Colab's CUDA 12 GPU runtime, and runs the example pipeline.\n",
        "\n",
        "👉 Make sure you enable GPU in Colab: `Runtime > Change runtime type > GPU`."
      ]
    },
    {
      "cell_type": "code",
      "execution_count": 1,
      "metadata": {
        "id": "2uVTuch992n7",
        "outputId": "4e146ce6-7a7d-4813-ac52-927f6c1687e4",
        "colab": {
          "base_uri": "https://localhost:8080/"
        }
      },
      "outputs": [
        {
          "output_type": "stream",
          "name": "stdout",
          "text": [
            "Cloning into 'BindStuff'...\n",
            "remote: Enumerating objects: 919, done.\u001b[K\n",
            "remote: Counting objects: 100% (138/138), done.\u001b[K\n",
            "remote: Compressing objects: 100% (121/121), done.\u001b[K\n",
            "remote: Total 919 (delta 70), reused 35 (delta 13), pack-reused 781 (from 1)\u001b[K\n",
            "Receiving objects: 100% (919/919), 6.96 MiB | 20.84 MiB/s, done.\n",
            "Resolving deltas: 100% (498/498), done.\n",
            "/content/BindStuff\n"
          ]
        }
      ],
      "source": [
        "# Clone the BindStuff repository\n",
        "!git clone https://github.com/rbf22/BindStuff.git\n",
        "%cd BindStuff"
      ]
    },
    {
      "cell_type": "code",
      "execution_count": 11,
      "metadata": {
        "id": "IU4jhJTq92n7",
        "outputId": "a9abda19-56be-4748-d145-c3cf04c790b1",
        "colab": {
          "base_uri": "https://localhost:8080/"
        }
      },
      "outputs": [
        {
          "output_type": "stream",
          "name": "stdout",
          "text": [
            "Requirement already satisfied: poetry in /usr/local/lib/python3.12/dist-packages (2.1.4)\n",
            "Requirement already satisfied: build<2.0.0,>=1.2.1 in /usr/local/lib/python3.12/dist-packages (from poetry) (1.3.0)\n",
            "Requirement already satisfied: cachecontrol<0.15.0,>=0.14.0 in /usr/local/lib/python3.12/dist-packages (from cachecontrol[filecache]<0.15.0,>=0.14.0->poetry) (0.14.3)\n",
            "Requirement already satisfied: cleo<3.0.0,>=2.1.0 in /usr/local/lib/python3.12/dist-packages (from poetry) (2.1.0)\n",
            "Requirement already satisfied: dulwich<0.23.0,>=0.22.6 in /usr/local/lib/python3.12/dist-packages (from poetry) (0.22.8)\n",
            "Requirement already satisfied: fastjsonschema<3.0.0,>=2.18.0 in /usr/local/lib/python3.12/dist-packages (from poetry) (2.21.2)\n",
            "Requirement already satisfied: findpython<0.7.0,>=0.6.2 in /usr/local/lib/python3.12/dist-packages (from poetry) (0.6.3)\n",
            "Requirement already satisfied: installer<0.8.0,>=0.7.0 in /usr/local/lib/python3.12/dist-packages (from poetry) (0.7.0)\n",
            "Requirement already satisfied: keyring<26.0.0,>=25.1.0 in /usr/local/lib/python3.12/dist-packages (from poetry) (25.6.0)\n",
            "Requirement already satisfied: packaging>=24.0 in /usr/local/lib/python3.12/dist-packages (from poetry) (25.0)\n",
            "Requirement already satisfied: pbs-installer<2026.0.0,>=2025.1.6 in /usr/local/lib/python3.12/dist-packages (from pbs-installer[download,install]<2026.0.0,>=2025.1.6->poetry) (2025.9.2)\n",
            "Requirement already satisfied: pkginfo<2.0,>=1.12 in /usr/local/lib/python3.12/dist-packages (from poetry) (1.12.1.2)\n",
            "Requirement already satisfied: platformdirs<5,>=3.0.0 in /usr/local/lib/python3.12/dist-packages (from poetry) (4.4.0)\n",
            "Requirement already satisfied: poetry-core==2.1.3 in /usr/local/lib/python3.12/dist-packages (from poetry) (2.1.3)\n",
            "Requirement already satisfied: pyproject-hooks<2.0.0,>=1.0.0 in /usr/local/lib/python3.12/dist-packages (from poetry) (1.2.0)\n",
            "Requirement already satisfied: requests<3.0,>=2.26 in /usr/local/lib/python3.12/dist-packages (from poetry) (2.32.5)\n",
            "Requirement already satisfied: requests-toolbelt<2.0.0,>=1.0.0 in /usr/local/lib/python3.12/dist-packages (from poetry) (1.0.0)\n",
            "Requirement already satisfied: shellingham<2.0,>=1.5 in /usr/local/lib/python3.12/dist-packages (from poetry) (1.5.4)\n",
            "Requirement already satisfied: tomlkit<1.0.0,>=0.11.4 in /usr/local/lib/python3.12/dist-packages (from poetry) (0.13.3)\n",
            "Requirement already satisfied: trove-classifiers>=2022.5.19 in /usr/local/lib/python3.12/dist-packages (from poetry) (2025.8.26.11)\n",
            "Requirement already satisfied: virtualenv<20.33.0,>=20.26.6 in /usr/local/lib/python3.12/dist-packages (from poetry) (20.32.0)\n",
            "Requirement already satisfied: msgpack<2.0.0,>=0.5.2 in /usr/local/lib/python3.12/dist-packages (from cachecontrol<0.15.0,>=0.14.0->cachecontrol[filecache]<0.15.0,>=0.14.0->poetry) (1.1.1)\n",
            "Requirement already satisfied: filelock>=3.8.0 in /usr/local/lib/python3.12/dist-packages (from cachecontrol[filecache]<0.15.0,>=0.14.0->poetry) (3.19.1)\n",
            "Requirement already satisfied: crashtest<0.5.0,>=0.4.1 in /usr/local/lib/python3.12/dist-packages (from cleo<3.0.0,>=2.1.0->poetry) (0.4.1)\n",
            "Requirement already satisfied: rapidfuzz<4.0.0,>=3.0.0 in /usr/local/lib/python3.12/dist-packages (from cleo<3.0.0,>=2.1.0->poetry) (3.14.0)\n",
            "Requirement already satisfied: urllib3>=1.25 in /usr/local/lib/python3.12/dist-packages (from dulwich<0.23.0,>=0.22.6->poetry) (2.5.0)\n",
            "Requirement already satisfied: SecretStorage>=3.2 in /usr/local/lib/python3.12/dist-packages (from keyring<26.0.0,>=25.1.0->poetry) (3.3.3)\n",
            "Requirement already satisfied: jeepney>=0.4.2 in /usr/local/lib/python3.12/dist-packages (from keyring<26.0.0,>=25.1.0->poetry) (0.9.0)\n",
            "Requirement already satisfied: jaraco.classes in /usr/local/lib/python3.12/dist-packages (from keyring<26.0.0,>=25.1.0->poetry) (3.4.0)\n",
            "Requirement already satisfied: jaraco.functools in /usr/local/lib/python3.12/dist-packages (from keyring<26.0.0,>=25.1.0->poetry) (4.3.0)\n",
            "Requirement already satisfied: jaraco.context in /usr/local/lib/python3.12/dist-packages (from keyring<26.0.0,>=25.1.0->poetry) (6.0.1)\n",
            "Requirement already satisfied: httpx<1,>=0.27.0 in /usr/local/lib/python3.12/dist-packages (from pbs-installer[download,install]<2026.0.0,>=2025.1.6->poetry) (0.28.1)\n",
            "Requirement already satisfied: zstandard>=0.21.0 in /usr/local/lib/python3.12/dist-packages (from pbs-installer[download,install]<2026.0.0,>=2025.1.6->poetry) (0.24.0)\n",
            "Requirement already satisfied: charset_normalizer<4,>=2 in /usr/local/lib/python3.12/dist-packages (from requests<3.0,>=2.26->poetry) (3.4.3)\n",
            "Requirement already satisfied: idna<4,>=2.5 in /usr/local/lib/python3.12/dist-packages (from requests<3.0,>=2.26->poetry) (3.10)\n",
            "Requirement already satisfied: certifi>=2017.4.17 in /usr/local/lib/python3.12/dist-packages (from requests<3.0,>=2.26->poetry) (2025.8.3)\n",
            "Requirement already satisfied: distlib<1,>=0.3.7 in /usr/local/lib/python3.12/dist-packages (from virtualenv<20.33.0,>=20.26.6->poetry) (0.4.0)\n",
            "Requirement already satisfied: anyio in /usr/local/lib/python3.12/dist-packages (from httpx<1,>=0.27.0->pbs-installer[download,install]<2026.0.0,>=2025.1.6->poetry) (4.10.0)\n",
            "Requirement already satisfied: httpcore==1.* in /usr/local/lib/python3.12/dist-packages (from httpx<1,>=0.27.0->pbs-installer[download,install]<2026.0.0,>=2025.1.6->poetry) (1.0.9)\n",
            "Requirement already satisfied: h11>=0.16 in /usr/local/lib/python3.12/dist-packages (from httpcore==1.*->httpx<1,>=0.27.0->pbs-installer[download,install]<2026.0.0,>=2025.1.6->poetry) (0.16.0)\n",
            "Requirement already satisfied: cryptography>=2.0 in /usr/local/lib/python3.12/dist-packages (from SecretStorage>=3.2->keyring<26.0.0,>=25.1.0->poetry) (43.0.3)\n",
            "Requirement already satisfied: more-itertools in /usr/local/lib/python3.12/dist-packages (from jaraco.classes->keyring<26.0.0,>=25.1.0->poetry) (10.7.0)\n",
            "Requirement already satisfied: cffi>=1.12 in /usr/local/lib/python3.12/dist-packages (from cryptography>=2.0->SecretStorage>=3.2->keyring<26.0.0,>=25.1.0->poetry) (1.17.1)\n",
            "Requirement already satisfied: sniffio>=1.1 in /usr/local/lib/python3.12/dist-packages (from anyio->httpx<1,>=0.27.0->pbs-installer[download,install]<2026.0.0,>=2025.1.6->poetry) (1.3.1)\n",
            "Requirement already satisfied: typing_extensions>=4.5 in /usr/local/lib/python3.12/dist-packages (from anyio->httpx<1,>=0.27.0->pbs-installer[download,install]<2026.0.0,>=2025.1.6->poetry) (4.15.0)\n",
            "Requirement already satisfied: pycparser in /usr/local/lib/python3.12/dist-packages (from cffi>=1.12->cryptography>=2.0->SecretStorage>=3.2->keyring<26.0.0,>=25.1.0->poetry) (2.22)\n",
            "Downloading AlphaFold2 parameters...\n",
            "mkdir -p params\n",
            "wget -q -O params/alphafold_params_2022-12-06.tar \"https://storage.googleapis.com/alphafold/alphafold_params_2022-12-06.tar\"\n",
            "tar -xvf params/alphafold_params_2022-12-06.tar -C params\n",
            "params_model_1.npz\n",
            "params_model_2.npz\n",
            "params_model_3.npz\n",
            "params_model_4.npz\n",
            "params_model_5.npz\n",
            "params_model_1_ptm.npz\n",
            "params_model_2_ptm.npz\n",
            "params_model_3_ptm.npz\n",
            "params_model_4_ptm.npz\n",
            "params_model_5_ptm.npz\n",
            "params_model_1_multimer_v3.npz\n",
            "params_model_2_multimer_v3.npz\n",
            "params_model_3_multimer_v3.npz\n",
            "params_model_4_multimer_v3.npz\n",
            "params_model_5_multimer_v3.npz\n",
            "LICENSE\n",
            "rm params/alphafold_params_2022-12-06.tar\n"
          ]
        }
      ],
      "source": [
        "# Install Poetry\n",
        "!pip install poetry\n",
        "\n",
        "# Configure Poetry to install into the Colab environment (no venv)\n",
        "!poetry config virtualenvs.create false\n",
        "\n",
        "# Install dependencies from pyproject.toml\n",
        "!poetry install -q\n",
        "!make download-params"
      ]
    },
    {
      "cell_type": "code",
      "execution_count": 3,
      "metadata": {
        "id": "IEB7P04k92n7"
      },
      "outputs": [],
      "source": [
        "# Fix JAX version for CUDA 12 (Colab GPU compatibility)\n",
        "#!pip uninstall -y jax jaxlib\n",
        "#!pip install --upgrade \"jax[cuda12_pip]\" -f https://storage.googleapis.com/jax-releases/jax_cuda_releases.htmlma"
      ]
    },
    {
      "cell_type": "code",
      "source": [
        "!pip install --upgrade jax_cuda12_plugin==0.7.1"
      ],
      "metadata": {
        "id": "ZUJcbQuRSird",
        "outputId": "6db86ed6-021c-4c01-ef86-0b4a576620c0",
        "colab": {
          "base_uri": "https://localhost:8080/"
        }
      },
      "execution_count": 9,
      "outputs": [
        {
          "output_type": "stream",
          "name": "stdout",
          "text": [
            "Requirement already satisfied: jax_cuda12_plugin==0.7.1 in /usr/local/lib/python3.12/dist-packages (0.7.1)\n",
            "Requirement already satisfied: jax-cuda12-pjrt==0.7.1 in /usr/local/lib/python3.12/dist-packages (from jax_cuda12_plugin==0.7.1) (0.7.1)\n"
          ]
        }
      ]
    },
    {
      "cell_type": "code",
      "execution_count": 7,
      "metadata": {
        "id": "k1IVJWEh92n7",
        "outputId": "473633f6-775c-4b23-aa36-1ef47bf6c379",
        "colab": {
          "base_uri": "https://localhost:8080/"
        }
      },
      "outputs": [
        {
          "output_type": "stream",
          "name": "stdout",
          "text": [
            "BindStuff folder successfully created in your drive!\n",
            "Binder design settings updated at: 2025-09-03 01:57:06\n",
            "New .json file with target settings has been generated in: examples/designs/PDL1.json\n",
            "Advanced design settings updated at: 2025-09-03 01:57:06\n",
            "New .json file with target settings has been generated in: settings_advanced/default_4stage_multimer.json\n",
            "Filter settings updated at: 2025-09-03 01:57:06\n",
            "New .json file with target settings has been generated in: settings_filters/default_filters.json\n",
            "\n",
            "\n",
            "##################################################################\n",
            "GPU detected. Running pipeline on GPU.\n",
            "##################################################################\n",
            "\n",
            "\n",
            "Running binder design for target PDL1\n",
            "Design settings used: default_4stage_multimer\n",
            "Filtering designs based on default_filters\n",
            "Starting trajectory: PDL1_l123_s741296\n",
            "Stage 1: Test Logits\n",
            "Traceback (most recent call last):\n",
            "  File \"/content/BindStuff/examples/run_example.py\", line 143, in <module>\n",
            "    main()\n",
            "  File \"/usr/local/lib/python3.12/dist-packages/click/core.py\", line 1442, in __call__\n",
            "    return self.main(*args, **kwargs)\n",
            "           ^^^^^^^^^^^^^^^^^^^^^^^^^^\n",
            "  File \"/usr/local/lib/python3.12/dist-packages/click/core.py\", line 1363, in main\n",
            "    rv = self.invoke(ctx)\n",
            "         ^^^^^^^^^^^^^^^^\n",
            "  File \"/usr/local/lib/python3.12/dist-packages/click/core.py\", line 1226, in invoke\n",
            "    return ctx.invoke(self.callback, **ctx.params)\n",
            "           ^^^^^^^^^^^^^^^^^^^^^^^^^^^^^^^^^^^^^^^\n",
            "  File \"/usr/local/lib/python3.12/dist-packages/click/core.py\", line 794, in invoke\n",
            "    return callback(*args, **kwargs)\n",
            "           ^^^^^^^^^^^^^^^^^^^^^^^^^\n",
            "  File \"/content/BindStuff/examples/run_example.py\", line 132, in main\n",
            "    run_pipeline(**run_pipeline_args)\n",
            "  File \"/content/BindStuff/functions/pipeline.py\", line 94, in run_pipeline\n",
            "    trajectory = binder_hallucination(design_name, target_settings[\"starting_pdb\"], target_settings[\"chains\"],\n",
            "                 ^^^^^^^^^^^^^^^^^^^^^^^^^^^^^^^^^^^^^^^^^^^^^^^^^^^^^^^^^^^^^^^^^^^^^^^^^^^^^^^^^^^^^^^^^^^^^\n",
            "  File \"/content/BindStuff/functions/colabdesign_utils.py\", line 172, in binder_hallucination\n",
            "    af_model.design_logits(\n",
            "  File \"/usr/local/lib/python3.12/dist-packages/colabdesign/af/design.py\", line 354, in design_logits\n",
            "    self.design(iters, **kwargs)\n",
            "  File \"/usr/local/lib/python3.12/dist-packages/colabdesign/af/design.py\", line 348, in design\n",
            "    self.step(lr_scale=lr_scale, num_recycles=num_recycles,\n",
            "  File \"/usr/local/lib/python3.12/dist-packages/colabdesign/af/design.py\", line 214, in step\n",
            "    self.run(num_recycles=num_recycles, num_models=num_models, sample_models=sample_models,\n",
            "  File \"/usr/local/lib/python3.12/dist-packages/colabdesign/af/design.py\", line 96, in run\n",
            "    auxs.append(self._recycle(p, num_recycles=num_recycles, backprop=backprop))\n",
            "                ^^^^^^^^^^^^^^^^^^^^^^^^^^^^^^^^^^^^^^^^^^^^^^^^^^^^^^^^^^^^^^\n",
            "  File \"/usr/local/lib/python3.12/dist-packages/colabdesign/af/design.py\", line 195, in _recycle\n",
            "    aux = self._single(model_params, backprop=False)\n",
            "          ^^^^^^^^^^^^^^^^^^^^^^^^^^^^^^^^^^^^^^^^^^\n",
            "  File \"/usr/local/lib/python3.12/dist-packages/colabdesign/af/design.py\", line 142, in _single\n",
            "    loss, aux = self._model[\"fn\"](*flags)\n",
            "                ^^^^^^^^^^^^^^^^^^^^^^^^^\n",
            "  File \"/usr/local/lib/python3.12/dist-packages/colabdesign/af/model.py\", line 195, in _model\n",
            "    outputs = runner.apply(model_params, key(), inputs)\n",
            "              ^^^^^^^^^^^^^^^^^^^^^^^^^^^^^^^^^^^^^^^^^\n",
            "  File \"/usr/local/lib/python3.12/dist-packages/colabdesign/af/alphafold/model/model.py\", line 93, in apply\n",
            "    results = self.apply_fn(params, key, feat)\n",
            "              ^^^^^^^^^^^^^^^^^^^^^^^^^^^^^^^^\n",
            "  File \"/usr/local/lib/python3.12/dist-packages/haiku/_src/transform.py\", line 183, in apply_fn\n",
            "    out, state = f.apply(params, None, *args, **kwargs)\n",
            "                 ^^^^^^^^^^^^^^^^^^^^^^^^^^^^^^^^^^^^^^\n",
            "  File \"/usr/local/lib/python3.12/dist-packages/haiku/_src/transform.py\", line 456, in apply_fn\n",
            "    out = f(*args, **kwargs)\n",
            "  ^^^^^^^^^^^^^^^^^^^^^^^^^^\n",
            "  File \"/usr/local/lib/python3.12/dist-packages/colabdesign/af/alphafold/model/model.py\", line 49, in _forward_fn\n",
            "    return model(\n",
            "           ^^^^^^\n",
            "  File \"/usr/local/lib/python3.12/dist-packages/haiku/_src/module.py\", line 464, in wrapped\n",
            "    out = f(*args, **kwargs)\n",
            "          ^^^^^^^^^^^^^^^^^^\n",
            "  File \"/usr/lib/python3.12/contextlib.py\", line 81, in inner\n",
            "    return func(*args, **kwds)\n",
            "           ^^^^^^^^^^^^^^^^^^^\n",
            "  File \"/usr/local/lib/python3.12/dist-packages/haiku/_src/module.py\", line 305, in run_interceptors\n",
            "    return bound_method(*args, **kwargs)\n",
            "           ^^^^^^^^^^^^^^^^^^^^^^^^^^^^^\n",
            "  File \"/usr/local/lib/python3.12/dist-packages/colabdesign/af/alphafold/model/modules_multimer.py\", line 195, in __call__\n",
            "    ret = apply_network(prev=batch.pop(\"prev\"), safe_key=safe_key)\n",
            "          ^^^^^^^^^^^^^^^^^^^^^^^^^^^^^^^^^^^^^^^^^^^^^^^^^^^^^^^^\n",
            "  File \"/usr/local/lib/python3.12/dist-packages/colabdesign/af/alphafold/model/modules_multimer.py\", line 191, in apply_network\n",
            "    return impl(\n",
            "           ^^^^^\n",
            "  File \"/usr/local/lib/python3.12/dist-packages/haiku/_src/module.py\", line 464, in wrapped\n",
            "    out = f(*args, **kwargs)\n",
            "          ^^^^^^^^^^^^^^^^^^\n",
            "  File \"/usr/lib/python3.12/contextlib.py\", line 81, in inner\n",
            "    return func(*args, **kwds)\n",
            "           ^^^^^^^^^^^^^^^^^^^\n",
            "  File \"/usr/local/lib/python3.12/dist-packages/haiku/_src/module.py\", line 305, in run_interceptors\n",
            "    return bound_method(*args, **kwargs)\n",
            "           ^^^^^^^^^^^^^^^^^^^^^^^^^^^^^\n",
            "  File \"/usr/local/lib/python3.12/dist-packages/colabdesign/af/alphafold/model/modules_multimer.py\", line 88, in __call__\n",
            "    representations = embedding_module(batch, safe_key=safe_subkey)\n",
            "                      ^^^^^^^^^^^^^^^^^^^^^^^^^^^^^^^^^^^^^^^^^^^^^\n",
            "  File \"/usr/local/lib/python3.12/dist-packages/haiku/_src/module.py\", line 464, in wrapped\n",
            "    out = f(*args, **kwargs)\n",
            "          ^^^^^^^^^^^^^^^^^^\n",
            "  File \"/usr/lib/python3.12/contextlib.py\", line 81, in inner\n",
            "    return func(*args, **kwds)\n",
            "           ^^^^^^^^^^^^^^^^^^^\n",
            "  File \"/usr/local/lib/python3.12/dist-packages/haiku/_src/module.py\", line 305, in run_interceptors\n",
            "    return bound_method(*args, **kwargs)\n",
            "           ^^^^^^^^^^^^^^^^^^^^^^^^^^^^^\n",
            "  File \"/usr/local/lib/python3.12/dist-packages/colabdesign/af/alphafold/model/modules_multimer.py\", line 392, in __call__\n",
            "    extra_evoformer_output, safe_key = extra_evoformer_stack(\n",
            "                                       ^^^^^^^^^^^^^^^^^^^^^^\n",
            "  File \"/usr/local/lib/python3.12/dist-packages/colabdesign/af/alphafold/model/layer_stack.py\", line 265, in wrapped\n",
            "    ret = _LayerStackNoState(\n",
            "          ^^^^^^^^^^^^^^^^^^^\n",
            "  File \"/usr/local/lib/python3.12/dist-packages/haiku/_src/module.py\", line 464, in wrapped\n",
            "    out = f(*args, **kwargs)\n",
            "          ^^^^^^^^^^^^^^^^^^\n",
            "  File \"/usr/lib/python3.12/contextlib.py\", line 81, in inner\n",
            "    return func(*args, **kwds)\n",
            "           ^^^^^^^^^^^^^^^^^^^\n",
            "  File \"/usr/local/lib/python3.12/dist-packages/haiku/_src/module.py\", line 305, in run_interceptors\n",
            "    return bound_method(*args, **kwargs)\n",
            "           ^^^^^^^^^^^^^^^^^^^^^^^^^^^^^\n",
            "  File \"/usr/local/lib/python3.12/dist-packages/colabdesign/af/alphafold/model/layer_stack.py\", line 156, in __call__\n",
            "    carry, zs = hk.scan(\n",
            "                ^^^^^^^^\n",
            "  File \"/usr/local/lib/python3.12/dist-packages/haiku/_src/stateful.py\", line 644, in scan\n",
            "    (carry, state), ys = jax.lax.scan(\n",
            "                         ^^^^^^^^^^^^^\n",
            "  File \"/usr/local/lib/python3.12/dist-packages/haiku/_src/stateful.py\", line 627, in stateful_fun\n",
            "    carry, out = f(carry, x)\n",
            "                 ^^^^^^^^^^^\n",
            "  File \"/usr/local/lib/python3.12/dist-packages/colabdesign/af/alphafold/model/layer_stack.py\", line 149, in layer\n",
            "    out_x, z = self._call_wrapped(carry.x, *scanned.args_ys)\n",
            "               ^^^^^^^^^^^^^^^^^^^^^^^^^^^^^^^^^^^^^^^^^^^^^\n",
            "  File \"/usr/local/lib/python3.12/dist-packages/colabdesign/af/alphafold/model/layer_stack.py\", line 182, in _call_wrapped\n",
            "    ret = self._f(*args)\n",
            "          ^^^^^^^^^^^^^^\n",
            "  File \"/usr/local/lib/python3.12/dist-packages/haiku/_src/stateful.py\", line 368, in wrapper\n",
            "    out, state = dec_stateful_fun(*args, **kwargs)\n",
            "                 ^^^^^^^^^^^^^^^^^^^^^^^^^^^^^^^^^\n",
            "  File \"/usr/local/lib/python3.12/dist-packages/haiku/_src/stateful.py\", line 383, in <lambda>\n",
            "    _factory = lambda f: functools.wraps(f)(lambda *a, **k: f()(*a, **k))\n",
            "                                                            ^^^^^^^^^^^^\n",
            "  File \"/usr/local/lib/python3.12/dist-packages/haiku/_src/stateful.py\", line 385, in <lambda>\n",
            "    _lambda_wrap = lambda f: functools.wraps(f)(lambda *a, **k: f(*a, **k))\n",
            "                                                                ^^^^^^^^^^\n",
            "  File \"/usr/local/lib/python3.12/dist-packages/haiku/_src/stateful.py\", line 360, in stateful_fun\n",
            "    out = fun(*args, **kwargs)\n",
            "          ^^^^^^^^^^^^^^^^^^^^\n",
            "  File \"/usr/local/lib/python3.12/dist-packages/colabdesign/af/alphafold/model/modules_multimer.py\", line 378, in extra_evoformer_fn\n",
            "    extra_evoformer_output = extra_evoformer_iteration(\n",
            "                             ^^^^^^^^^^^^^^^^^^^^^^^^^^\n",
            "  File \"/usr/local/lib/python3.12/dist-packages/haiku/_src/module.py\", line 464, in wrapped\n",
            "    out = f(*args, **kwargs)\n",
            "          ^^^^^^^^^^^^^^^^^^\n",
            "  File \"/usr/lib/python3.12/contextlib.py\", line 81, in inner\n",
            "    return func(*args, **kwds)\n",
            "           ^^^^^^^^^^^^^^^^^^^\n",
            "  File \"/usr/local/lib/python3.12/dist-packages/haiku/_src/module.py\", line 305, in run_interceptors\n",
            "    return bound_method(*args, **kwargs)\n",
            "           ^^^^^^^^^^^^^^^^^^^^^^^^^^^^^\n",
            "  File \"/usr/local/lib/python3.12/dist-packages/colabdesign/af/alphafold/model/modules.py\", line 1289, in __call__\n",
            "    pair_act = dropout_wrapper_fn(\n",
            "               ^^^^^^^^^^^^^^^^^^^\n",
            "  File \"/usr/local/lib/python3.12/dist-packages/colabdesign/af/alphafold/model/modules.py\", line 58, in dropout_wrapper\n",
            "    residual = module(input_act, mask, **kwargs)\n",
            "               ^^^^^^^^^^^^^^^^^^^^^^^^^^^^^^^^^\n",
            "  File \"/usr/local/lib/python3.12/dist-packages/haiku/_src/module.py\", line 464, in wrapped\n",
            "    out = f(*args, **kwargs)\n",
            "          ^^^^^^^^^^^^^^^^^^\n",
            "  File \"/usr/lib/python3.12/contextlib.py\", line 81, in inner\n",
            "    return func(*args, **kwds)\n",
            "           ^^^^^^^^^^^^^^^^^^^\n",
            "  File \"/usr/local/lib/python3.12/dist-packages/haiku/_src/module.py\", line 305, in run_interceptors\n",
            "    return bound_method(*args, **kwargs)\n",
            "           ^^^^^^^^^^^^^^^^^^^^^^^^^^^^^\n",
            "  File \"/usr/local/lib/python3.12/dist-packages/colabdesign/af/alphafold/model/modules.py\", line 1172, in __call__\n",
            "    act = mapping.inference_subbatch(\n",
            "          ^^^^^^^^^^^^^^^^^^^^^^^^^^^\n",
            "  File \"/usr/local/lib/python3.12/dist-packages/colabdesign/af/alphafold/model/mapping.py\", line 218, in inference_subbatch\n",
            "    sharded_module = sharded_apply(run_module,\n",
            "                     ^^^^^^^^^^^^^^^^^^^^^^^^^\n",
            "  File \"/usr/local/lib/python3.12/dist-packages/colabdesign/af/alphafold/model/mapping.py\", line 122, in sharded_apply\n",
            "    @jax.util.wraps(fun, docstr=docstr)\n",
            "     ^^^^^^^^^^^^^^\n",
            "  File \"/usr/local/lib/python3.12/dist-packages/jax/_src/deprecations.py\", line 54, in getattr\n",
            "    raise AttributeError(message)\n",
            "AttributeError: wraps was deprecated in JAX v0.6.0 and removed in JAX v0.7.0.\n",
            "--------------------\n",
            "For simplicity, JAX has removed its internal frames from the traceback of the following exception. Set JAX_TRACEBACK_FILTERING=off to include these.\n"
          ]
        }
      ],
      "source": [
        "# Run the example pipeline\n",
        "!python examples/run_example.py\n",
        "\n",
        "# 👉 Remove `--run-on-cpu` if you want to use GPU (recommended).\n",
        "# If GPU fails, you can force CPU by setting:\n",
        "# import os; os.environ['JAX_PLATFORMS'] = 'cpu'"
      ]
    },
    {
      "cell_type": "code",
      "source": [
        "!pwd\n"
      ],
      "metadata": {
        "id": "oUdCo1BE_gNq",
        "outputId": "2ece9fa9-a3fc-43a5-b69b-dba4809d3414",
        "colab": {
          "base_uri": "https://localhost:8080/"
        }
      },
      "execution_count": 5,
      "outputs": [
        {
          "output_type": "stream",
          "name": "stdout",
          "text": [
            "/content/BindStuff\n"
          ]
        }
      ]
    },
    {
      "cell_type": "code",
      "source": [],
      "metadata": {
        "id": "LvZQaUwg_igQ"
      },
      "execution_count": 5,
      "outputs": []
    }
  ],
  "metadata": {
    "colab": {
      "name": "run_example.ipynb",
      "provenance": [],
      "gpuType": "T4"
    },
    "kernelspec": {
      "display_name": "Python 3",
      "name": "python3"
    },
    "language_info": {
      "name": "python"
    },
    "accelerator": "GPU"
  },
  "nbformat": 4,
  "nbformat_minor": 0
}