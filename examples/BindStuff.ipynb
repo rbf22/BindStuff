{
 "cells": [
  {
   "cell_type": "markdown",
   "metadata": {
    "id": "MTagjooX0XC1"
   },
   "source": [
    "# BindStuff: Protein binder design\n",
    "\n",
    "<img src=\"https://github.com/martinpacesa/BindStuff/blob/main/pipeline.png?raw=true\">\n",
    "\n",
    "Simple binder design pipeline using AlphaFold2 backpropagation, MPNN, and PyRosetta. Select your target and let the script do the rest of the work and finish once you have enough designs to order!\n",
    "\n",
    "The designs will be saved on your Google Drive under BindStuff/[design_name]/ and you can continue running the design pipeline if the session times out and it will continue adding new designs."
   ]
  },
  {
   "cell_type": "code",
   "execution_count": null,
   "metadata": {
    "cellView": "form",
    "id": "7fMzl8JiyaXm"
   },
   "outputs": [],
   "source": [
    "#@title Installation\n",
    "import os\n",
    "import time\n",
    "\n",
    "if not os.path.isfile(\"bindstuff/params/done.txt\"):\n",
    "  print(\"Installing required BindStuff components\")\n",
    "\n",
    "  print(\"Pulling BindStuff code from Github\")\n",
    "  os.makedirs('/content/bindstuff/', exist_ok=True)\n",
    "  os.system(\"git clone https://github.com/martinpacesa/BindStuff /content/bindstuff/\")\n",
    "  os.system(\"chmod +x /content/bindstuff/functions/dssp\")\n",
    "  os.system(\"chmod +x /content/bindstuff/functions/DAlphaBall.gcc\")\n",
    "\n",
    "  print(\"Installing ColabDesign\")\n",
    "  os.system(\"(mkdir bindstuff/params; apt-get install aria2 -qq; \\\n",
    "  aria2c -q -x 16 https://storage.googleapis.com/alphafold/alphafold_params_2022-12-06.tar; \\\n",
    "  tar -xf alphafold_params_2022-12-06.tar -C bindstuff/params; touch bindstuff/params/done.txt )&\")\n",
    "  os.system(\"pip install git+https://github.com/sokrypton/ColabDesign.git\")\n",
    "  # for debugging purposes\n",
    "  os.system(\"ln -s /usr/local/lib/python3.*/dist-packages/colabdesign colabdesign\")\n",
    "\n",
    "  print(\"Installing ProDy, and protein-design-tools\"),",
    "  os.system(\"pip install prody freesasa protein-design-tools\"),",
    "\n",
    "  # download params\n",
    "  if not os.path.isfile(\"bindstuff/params/done.txt\"):\n",
    "    print(\"downloading AlphaFold params\")\n",
    "    while not os.path.isfile(\"bindstuff/params/done.txt\"):\n",
    "      time.sleep(5)\n",
    "\n",
    "  print(\"BindStuff installation is finished, ready to run!\")\n",
    "else:\n",
    "  print(\"BindStuff components already installed, ready to run!\")"
   ]
  },
  {
   "cell_type": "code",
   "execution_count": null,
   "metadata": {
    "cellView": "form",
    "id": "01IH64-ycCQY"
   },
   "outputs": [],
   "source": [
    "#@title Mount your Google Drive to save design results\n",
    "from google.colab import drive\n",
    "from datetime import datetime\n",
    "drive.mount('/content/drive')\n",
    "currenttime = datetime.now().strftime(\"%Y-%m-%d %H:%M:%S\")\n",
    "print(f\"Google drive mounted at: {currenttime}\")\n",
    "\n",
    "bindstuff_google_drive = '/content/drive/My Drive/BindStuff/'\n",
    "os.makedirs(bindstuff_google_drive, exist_ok=True)\n",
    "print(\"BindStuff folder successfully created in your drive!\")"
   ]
  },
  {
   "cell_type": "code",
   "execution_count": null,
   "metadata": {
    "cellView": "form",
    "id": "RbL-S_t2hicj"
   },
   "outputs": [],
   "source": [
    "#@title Binder design settings\n",
    "import os\n",
    "import json\n",
    "from datetime import datetime\n",
    "from functions.generic_utils import create_target_settings_from_form\n",
    "# @markdown ---\n",
    "# @markdown Enter path where to save your designs. We recommend to save on Google drive so that you can continue generating at any time.\n",
    "design_path = \"/content/drive/MyDrive/BindStuff/PDL1/\" # @param {\"type\":\"string\",\"placeholder\":\"/content/drive/MyDrive/BindStuff/PDL1/\"}\n",
    "\n",
    "# @markdown Enter the name that should be prefixed to your binders (generally target name).\n",
    "binder_name = \"PDL1\" # @param {\"type\":\"string\",\"placeholder\":\"PDL1\"}\n",
    "\n",
    "# @markdown The path to the .pdb structure of your target. Can be an experimental or AlphaFold2 structure. We recommend trimming the structure to as small as needed, as the whole selected chains will be backpropagated through the network and can significantly increase running times.\n",
    "starting_pdb = \"/content/bindstuff/example/PDL1.pdb\" # @param {\"type\":\"string\",\"placeholder\":\"/content/bindstuff/example/PDL1.pdb\"}\n",
    "\n",
    "# @markdown Which chains of your PDB to target? Can be one or multiple, in a comma-separated format. Other chains will be ignored during design.\n",
    "chains = \"A\" # @param {\"type\":\"string\",\"placeholder\":\"A,C\"}\n",
    "\n",
    "# @markdown What positions to target in your protein of interest? For example `1,2-10` or chain specific `A1-10,B1-20` or entire chains `A`. If left blank, an appropriate site will be selected by the pipeline.\n",
    "target_hotspot_residues = \"\" # @param {\"type\":\"string\",\"placeholder\":\"\"}\n",
    "\n",
    "# @markdown What is the minimum and maximum size of binders you want to design? Pipeline will randomly sample different sizes between these values.\n",
    "lengths = \"70,150\" # @param {\"type\":\"string\",\"placeholder\":\"70,150\"}\n",
    "\n",
    "# @markdown How many binder designs passing filters do you require?\n",
    "number_of_final_designs = 100 # @param {\"type\":\"integer\",\"placeholder\":\"100\"}\n",
    "# @markdown ---\n",
    "# @markdown Enter path on your Google drive (/content/drive/MyDrive/BindStuff/[binder_name].json) to previous target settings to continue design campaign. If left empty, it will use the settings above and generate a new settings json in your design output folder.\n",
    "load_previous_target_settings = \"\" # @param {\"type\":\"string\",\"placeholder\":\"\"}\n",
    "# @markdown ---\n",
    "\n",
    "target_settings_path = create_target_settings_from_form(design_path, binder_name, starting_pdb, chains, target_hotspot_residues, lengths, number_of_final_designs, load_previous_target_settings)\n",
    "\n",
    "currenttime = datetime.now().strftime(\"%Y-%m-%d %H:%M:%S\")\n",
    "print(f\"Binder design settings updated at: {currenttime}\")\n",
    "print(f\"New .json file with target settings has been generated in: {target_settings_path}\")"
   ]
  },
  {
   "cell_type": "code",
   "execution_count": null,
   "metadata": {
    "cellView": "form",
    "id": "qcEjqCIlhire"
   },
   "outputs": [],
   "source": [
    "#@title Advanced settings\n",
    "from datetime import datetime\n",
    "from functions.generic_utils import get_advanced_settings_path_from_form\n",
    "# @markdown ---\n",
    "# @markdown Which binder design protocol to run? Default is recommended. \"Beta-sheet\" promotes the design of more beta sheeted proteins, but requires more sampling. \"Peptide\" is optimised for helical peptide binders.\n",
    "design_protocol = \"Default\" # @param [\"Default\",\"Beta-sheet\",\"Peptide\"]\n",
    "# @markdown What prediction protocol to use?. \"Default\" performs single sequence prediction of the binder. \"HardTarget\" uses initial guess to improve complex prediction for difficult targets, but might introduce some bias.\n",
    "prediction_protocol = \"Default\" # @param [\"Default\",\"HardTarget\"]\n",
    "# @markdown What interface design method to use?. \"AlphaFold2\" is the default, interface is generated by AlphaFold2. \"MPNN\" uses soluble MPNN to optimise the interface.\n",
    "interface_protocol = \"AlphaFold2\" # @param [\"AlphaFold2\",\"MPNN\"]\n",
    "# @markdown What target template protocol to use? \"Default\" allows for limited amount flexibility. \"Masked\" allows for greater target flexibility on both sidechain and backbone level.\n",
    "template_protocol = \"Default\" # @param [\"Default\",\"Masked\"]\n",
    "# @markdown ---\n",
    "\n",
    "advanced_settings_path = get_advanced_settings_path_from_form(design_protocol, interface_protocol, template_protocol, prediction_protocol)\n",
    "\n",
    "currenttime = datetime.now().strftime(\"%Y-%m-%d %H:%M:%S\")\n",
    "print(f\"Advanced design settings updated at: {currenttime}\")"
   ]
  },
  {
   "cell_type": "code",
   "execution_count": null,
   "metadata": {
    "cellView": "form",
    "id": "r-OpCVe4hi5Q"
   },
   "outputs": [],
   "source": [
    "#@title Filters\n",
    "from datetime import datetime\n",
    "from functions.generic_utils import get_filter_settings_path_from_form\n",
    "# @markdown ---\n",
    "# @markdown Which filters for designs to use? \"Default\" are recommended, \"Peptide\" are for the design of peptide binders, \"Relaxed\" are more permissive but may result in fewer experimental successes, \"Peptide_Relaxed\" are more permissive filters for non-helical peptides, \"None\" is for benchmarking.\n",
    "filter_option = \"Default\" # @param [\"Default\", \"Peptide\", \"Relaxed\", \"Peptide_Relaxed\", \"None\"]\n",
    "# @markdown ---\n",
    "\n",
    "filter_settings_path = get_filter_settings_path_from_form(filter_option)\n",
    "\n",
    "currenttime = datetime.now().strftime(\"%Y-%m-%d %H:%M:%S\")\n",
    "print(f\"Filter settings updated at: {currenttime}\")"
   ]
  },
  {
   "cell_type": "markdown",
   "metadata": {
    "id": "BR3gtmcChtvX"
   },
   "source": [
    "# Everything is set, BindStuff is ready to run!"
   ]
  },
  {
   "cell_type": "code",
   "execution_count": null,
   "metadata": {
    "cellView": "form",
    "id": "LgRFO3EKAnM5"
   },
   "outputs": [],
   "source": [
    "# @title Run BindStuff\n",
    "import os\n",
    "from functions.generic_utils import (\n",
    "    check_jax_gpu,\n",
    "    load_json_settings,\n",
    "    load_af2_models,\n",
    "    perform_advanced_settings_check,\n",
    "    generate_directories,\n",
    "    generate_dataframe_labels,\n",
    "    create_dataframe,\n",
    "    generate_filter_pass_csv,\n",
    ")\n",
    "from functions.pipeline import run_pipeline\n",
    "\n",
    "check_jax_gpu()\n",
    "\n",
    "target_settings, advanced_settings, filters = load_json_settings(target_settings_path, filter_settings_path, advanced_settings_path)\n",
    "\n",
    "settings_file = os.path.basename(target_settings_path).split('.')[0]\n",
    "filters_file = os.path.basename(filter_settings_path).split('.')[0]\n",
    "advanced_file = os.path.basename(advanced_settings_path).split('.')[0]\n",
    "\n",
    "design_models, prediction_models, multimer_validation = load_af2_models(advanced_settings[\"use_multimer_design\"])\n",
    "\n",
    "bindstuff_folder = \"colab\"\n",
    "advanced_settings = perform_advanced_settings_check(advanced_settings, bindstuff_folder)\n",
    "\n",
    "design_paths = generate_directories(target_settings[\"design_path\"])\n",
    "\n",
    "trajectory_labels, design_labels, final_labels = generate_dataframe_labels()\n",
    "\n",
    "trajectory_csv = os.path.join(target_settings[\"design_path\"], 'trajectory_stats.csv')\n",
    "mpnn_csv = os.path.join(target_settings[\"design_path\"], 'mpnn_design_stats.csv')\n",
    "final_csv = os.path.join(target_settings[\"design_path\"], 'final_design_stats.csv')\n",
    "failure_csv = os.path.join(target_settings[\"design_path\"], 'failure_csv.csv')\n",
    "\n",
    "create_dataframe(trajectory_csv, trajectory_labels)\n",
    "create_dataframe(mpnn_csv, design_labels)\n",
    "create_dataframe(final_csv, final_labels)\n",
    "generate_filter_pass_csv(failure_csv, filter_settings_path)\n",
    "\n",
    "run_pipeline(\n",
    "    target_settings=target_settings,\n",
    "    advanced_settings=advanced_settings,\n",
    "    filters=filters,\n",
    "    design_models=design_models,\n",
    "    prediction_models=prediction_models,\n",
    "    multimer_validation=multimer_validation,\n",
    "    design_paths=design_paths,\n",
    "    trajectory_csv=trajectory_csv,\n",
    "    mpnn_csv=mpnn_csv,\n",
    "    final_csv=final_csv,\n",
    "    failure_csv=failure_csv,\n",
    "    settings_file=settings_file,\n",
    "    filters_file=filters_file,\n",
    "    advanced_file=advanced_file,\n",
    "    trajectory_labels=trajectory_labels,\n",
    "    design_labels=design_labels,\n",
    "    final_labels=final_labels\n",
    ")\n"
   ]
  }
 ],
 "metadata": {
  "accelerator": "GPU",
  "colab": {
   "gpuType": "A100",
   "machine_shape": "hm",
   "provenance": []
  },
  "kernelspec": {
   "display_name": "Python 3 (ipykernel)",
   "language": "python",
   "name": "python3"
  },
  "language_info": {
   "codemirror_mode": {
    "name": "ipython",
    "version": 3
   },
   "file_extension": ".py",
   "mimetype": "text/x-python",
   "name": "python",
   "nbconvert_exporter": "python",
   "pygments_lexer": "ipython3",
   "version": "3.10.14"
  }
 },
 "nbformat": 4,
 "nbformat_minor": 4
}
